{
 "cells": [
  {
   "cell_type": "markdown",
   "metadata": {},
   "source": [
    "# Data\n",
    "\n",
    "Verify that the input pipeline works as expected."
   ]
  },
  {
   "cell_type": "code",
   "execution_count": 95,
   "metadata": {},
   "outputs": [
    {
     "name": "stdout",
     "output_type": "stream",
     "text": [
      "The autoreload extension is already loaded. To reload it, use:\n",
      "  %reload_ext autoreload\n"
     ]
    }
   ],
   "source": [
    "import os \n",
    "import sys\n",
    "sys.path.append('..')\n",
    "\n",
    "import numpy as np\n",
    "import pandas as pd\n",
    "import tensorflow as tf\n",
    "import matplotlib.pyplot as plt\n",
    "\n",
    "import data\n",
    "\n",
    "%matplotlib inline\n",
    "%load_ext autoreload\n",
    "%autoreload 2"
   ]
  },
  {
   "cell_type": "code",
   "execution_count": 96,
   "metadata": {},
   "outputs": [],
   "source": [
    "main_dir = '..'\n",
    "data_dir = os.path.join(main_dir, 'image_files')\n",
    "metadata = pd.read_csv('../metadata.csv')\n",
    "exclude_labels = {6, 7, 8, 9}"
   ]
  },
  {
   "cell_type": "code",
   "execution_count": 97,
   "metadata": {},
   "outputs": [],
   "source": [
    "sources = data.build_sources_from_metadata(metadata, data_dir, exclude_labels=exclude_labels)"
   ]
  },
  {
   "cell_type": "code",
   "execution_count": 98,
   "metadata": {},
   "outputs": [
    {
     "data": {
      "text/plain": [
       "[('../image_files/10091307683230112167.JPG', 0),\n",
       " ('../image_files/15555110208252235557.JPG', 3),\n",
       " ('../image_files/8658714011390559080.JPG', 5),\n",
       " ('../image_files/8460514791644208367.JPG', 0),\n",
       " ('../image_files/10324049429817965896.JPG', 0),\n",
       " ('../image_files/13366660941511932807.JPG', 4),\n",
       " ('../image_files/2538609714180619616.JPG', 2),\n",
       " ('../image_files/12215393830460648283.JPG', 5),\n",
       " ('../image_files/12784473228480614749.JPG', 5),\n",
       " ('../image_files/9885366999726315601.JPG', 0)]"
      ]
     },
     "execution_count": 98,
     "metadata": {},
     "output_type": "execute_result"
    }
   ],
   "source": [
    "sources[:10]"
   ]
  },
  {
   "cell_type": "code",
   "execution_count": 99,
   "metadata": {},
   "outputs": [],
   "source": [
    "dataset = data.make_dataset(sources, batch_size=3)\n",
    "dataset_iterator = iter(dataset)"
   ]
  },
  {
   "cell_type": "code",
   "execution_count": 100,
   "metadata": {},
   "outputs": [],
   "source": [
    "def imshow_batch_of_three(batch):\n",
    "    label_batch = batch[1].numpy()\n",
    "    image_batch = batch[0].numpy()\n",
    "    fig, axarr = plt.subplots(1, 3, figsize=(15, 5), sharey=True)\n",
    "    for i in range(3):\n",
    "        img = image_batch[i, ...]\n",
    "        axarr[i].imshow(img)\n",
    "        axarr[i].set(xlabel='label = {}'.format(label_batch[i]))"
   ]
  },
  {
   "cell_type": "code",
   "execution_count": 101,
   "metadata": {},
   "outputs": [
    {
     "data": {
      "image/png": "[encoded data removed]",
      "text/plain": [
       "<Figure size 1080x360 with 3 Axes>"
      ]
     },
     "metadata": {
      "needs_background": "light"
     },
     "output_type": "display_data"
    }
   ],
   "source": [
    "imshow_batch_of_three(next(dataset_iterator))"
   ]
  },
  {
   "cell_type": "code",
   "execution_count": null,
   "metadata": {},
   "outputs": [],
   "source": []
  },
  {
   "cell_type": "code",
   "execution_count": null,
   "metadata": {},
   "outputs": [],
   "source": []
  },
  {
   "cell_type": "code",
   "execution_count": null,
   "metadata": {},
   "outputs": [],
   "source": []
  },
  {
   "cell_type": "code",
   "execution_count": null,
   "metadata": {},
   "outputs": [],
   "source": []
  },
  {
   "cell_type": "code",
   "execution_count": null,
   "metadata": {},
   "outputs": [],
   "source": []
  }
 ],
 "metadata": {
  "kernelspec": {
   "display_name": "Python 3",
   "language": "python",
   "name": "python3"
  },
  "language_info": {
   "codemirror_mode": {
    "name": "ipython",
    "version": 3
   },
   "file_extension": ".py",
   "mimetype": "text/x-python",
   "name": "python",
   "nbconvert_exporter": "python",
   "pygments_lexer": "ipython3",
   "version": "3.6.7"
  }
 },
 "nbformat": 4,
 "nbformat_minor": 2
}
